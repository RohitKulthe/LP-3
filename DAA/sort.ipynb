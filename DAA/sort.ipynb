{
 "cells": [
  {
   "cell_type": "code",
   "execution_count": null,
   "id": "95203925-5215-4ee5-a1d7-c247e5e2e155",
   "metadata": {},
   "outputs": [
    {
     "name": "stdout",
     "output_type": "stream",
     "text": [
      "Press Ctrl+C to exit...\n"
     ]
    },
    {
     "name": "stdin",
     "output_type": "stream",
     "text": [
      "Enter array 3 4 6 2 3 4 1 9 5\n"
     ]
    },
    {
     "name": "stdout",
     "output_type": "stream",
     "text": [
      "Deterministic variant of sort\n",
      "[1, 2, 3, 3, 4, 4, 5, 6, 9]\n",
      "Radomized variant of sort\n",
      "[1, 2, 3, 3, 4, 4, 5, 6, 9]\n",
      "Press Ctrl+C to exit...\n"
     ]
    }
   ],
   "source": [
    "import random\n",
    "\n",
    "\n",
    "class QuickSort:\n",
    "    def __init__(self,array):\n",
    "        self.array = array\n",
    "    \n",
    "\n",
    "    # Deterministic method to find pivot\n",
    "    def partition(self,low,high):\n",
    "        # High element is default pivot\n",
    "        pivot = self.array[high]\n",
    "\n",
    "        # pointer for greater element\n",
    "        i = low - 1\n",
    "\n",
    "\n",
    "        for j in range(low,high):\n",
    "            if self.array[j] <= pivot:\n",
    "                # if element smaller than pivot is found\n",
    "                # swap it with the greater element pointed by i\n",
    "                i += 1\n",
    "                self.array[i],self.array[j] = self.array[j],self.array[i]\n",
    "        # swap the pivot element with the greater element specified by i\n",
    "        self.array[i+1],self.array[high] = self.array[high],self.array[i+1]\n",
    "\n",
    "        return i+1\n",
    "    \n",
    "    def partition_random(self,low,high):\n",
    "        pivot = random.randint(low,high)\n",
    "        self.array[pivot],self.array[high] = self.array[high],self.array[pivot]\n",
    "        return self.partition(low,high)\n",
    "    \n",
    "    # deterministic variant of sort\n",
    "    def sort_d(self,low,high):\n",
    "        if low < high:\n",
    "\n",
    "            pivot = self.partition(low,high)\n",
    "            self.sort_d(low,pivot-1)\n",
    "            self.sort_d(pivot+1,high)\n",
    "    \n",
    "    \n",
    "    # random variant of sort\n",
    "    def sort_r(self,low,high):\n",
    "        if low < high:\n",
    "            pivot = self.partition_random(low,high)\n",
    "            self.sort_r(low,pivot-1)\n",
    "            self.sort_r(pivot+1,high)\n",
    "\n",
    "\n",
    "while True:\n",
    "    print(\"Press Ctrl+C to exit...\")\n",
    "    array = [int(i) for i in input(\"Enter array\").split(\" \")]\n",
    "    print(\"Deterministic variant of sort\")\n",
    "    sort1 = QuickSort(array)\n",
    "    sort1.sort_d(0,len(array)-1)\n",
    "    print(sort1.array)\n",
    "    print(\"Radomized variant of sort\")\n",
    "    sort2 = QuickSort(array)\n",
    "    sort2.sort_r(0,len(array)-1)\n",
    "    print(sort2.array)\n",
    "    "
   ]
  },
  {
   "cell_type": "code",
   "execution_count": null,
   "id": "cd0c1b56-75cf-4e39-bf1d-0860fb79e2b2",
   "metadata": {},
   "outputs": [],
   "source": []
  }
 ],
 "metadata": {
  "kernelspec": {
   "display_name": "Python 3 (ipykernel)",
   "language": "python",
   "name": "python3"
  },
  "language_info": {
   "codemirror_mode": {
    "name": "ipython",
    "version": 3
   },
   "file_extension": ".py",
   "mimetype": "text/x-python",
   "name": "python",
   "nbconvert_exporter": "python",
   "pygments_lexer": "ipython3",
   "version": "3.12.4"
  }
 },
 "nbformat": 4,
 "nbformat_minor": 5
}
