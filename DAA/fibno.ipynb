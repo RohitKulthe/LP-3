{
 "cells": [
  {
   "cell_type": "code",
   "execution_count": 1,
   "id": "ba929d1a-d826-4857-88b7-1b865a6b6e36",
   "metadata": {},
   "outputs": [
    {
     "name": "stdin",
     "output_type": "stream",
     "text": [
      "Enter the value of n:  3\n"
     ]
    },
    {
     "name": "stdout",
     "output_type": "stream",
     "text": [
      "Recursive Fibonacci(3) = 2\n",
      "Total recursive steps: 5\n",
      "Iterative Fibonacci(3) = 2\n",
      "Total iterative steps: 3\n"
     ]
    }
   ],
   "source": [
    "def fibonacci_recursive(n):\n",
    "    global recursive_steps\n",
    "    recursive_steps += 1\n",
    "    return n if n < 2 else fibonacci_recursive(n - 1) + fibonacci_recursive(n - 2)\n",
    "\n",
    "def fibonacci_iterative(n):\n",
    "    global iterative_steps\n",
    "    a, b = 0, 1\n",
    "    for _ in range(n):\n",
    "        a, b = b, a + b\n",
    "        iterative_steps += 1\n",
    "    return a\n",
    "\n",
    "# Input for Fibonacci number\n",
    "n = int(input(\"Enter the value of n: \"))\n",
    "\n",
    "# Recursive approach\n",
    "recursive_steps = 0\n",
    "fib_recursive = fibonacci_recursive(n)\n",
    "print(f\"Recursive Fibonacci({n}) = {fib_recursive}\")\n",
    "print(f\"Total recursive steps: {recursive_steps}\")\n",
    "\n",
    "# Iterative approach\n",
    "iterative_steps = 0\n",
    "fib_iterative = fibonacci_iterative(n)\n",
    "print(f\"Iterative Fibonacci({n}) = {fib_iterative}\")\n",
    "print(f\"Total iterative steps: {iterative_steps}\")"
   ]
  },
  {
   "cell_type": "code",
   "execution_count": null,
   "id": "b6953f23-83e1-4378-b63f-413dfa51687a",
   "metadata": {},
   "outputs": [],
   "source": []
  }
 ],
 "metadata": {
  "kernelspec": {
   "display_name": "Python 3 (ipykernel)",
   "language": "python",
   "name": "python3"
  },
  "language_info": {
   "codemirror_mode": {
    "name": "ipython",
    "version": 3
   },
   "file_extension": ".py",
   "mimetype": "text/x-python",
   "name": "python",
   "nbconvert_exporter": "python",
   "pygments_lexer": "ipython3",
   "version": "3.12.4"
  }
 },
 "nbformat": 4,
 "nbformat_minor": 5
}
