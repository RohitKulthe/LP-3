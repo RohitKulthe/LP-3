{
 "cells": [
  {
   "cell_type": "code",
   "execution_count": null,
   "id": "83cbc847-e215-4e20-92b7-622436fb19a5",
   "metadata": {},
   "outputs": [],
   "source": [
    "def knapsack_01(values, weights, capacity):\n",
    "    n = len(values)\n",
    "    dp = [[0] * (capacity + 1) for _ in range(n + 1)]\n",
    "    \n",
    "    # Build the DP table\n",
    "    for i in range(1, n + 1):\n",
    "        for w in range(capacity + 1):\n",
    "            if weights[i - 1] <= w:\n",
    "                dp[i][w] = max(dp[i - 1][w], dp[i - 1][w - weights[i - 1]] + values[i - 1])\n",
    "            else:\n",
    "                dp[i][w] = dp[i - 1][w]\n",
    "    \n",
    "    return dp[n][capacity]\n",
    "\n",
    "# User input\n",
    "n = int(input(\"Enter the number of items: \"))\n",
    "values = [int(input(f\"Enter value for item {i + 1}: \")) for i in range(n)]\n",
    "weights = [int(input(f\"Enter weight for item {i + 1}: \")) for i in range(n)]\n",
    "capacity = int(input(\"Enter the knapsack capacity: \"))\n",
    "\n",
    "# Calculate and display the maximum value for the knapsack\n",
    "max_value = knapsack_01(values, weights, capacity)\n",
    "print(f\"Maximum value in Knapsack = {max_value}\")\n"
   ]
  },
  {
   "cell_type": "code",
   "execution_count": null,
   "id": "3368fca4-d498-4915-89ec-2ab2388f7f8b",
   "metadata": {},
   "outputs": [],
   "source": []
  }
 ],
 "metadata": {
  "kernelspec": {
   "display_name": "Python 3 (ipykernel)",
   "language": "python",
   "name": "python3"
  },
  "language_info": {
   "codemirror_mode": {
    "name": "ipython",
    "version": 3
   },
   "file_extension": ".py",
   "mimetype": "text/x-python",
   "name": "python",
   "nbconvert_exporter": "python",
   "pygments_lexer": "ipython3",
   "version": "3.12.4"
  }
 },
 "nbformat": 4,
 "nbformat_minor": 5
}
